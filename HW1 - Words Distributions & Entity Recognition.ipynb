{
 "cells": [
  {
   "cell_type": "markdown",
   "metadata": {},
   "source": [
    "Name:\n",
    "\n",
    "Andrew ID:\n",
    "\n",
    "Collaborators (if none, say \"none\"; do *not* leave this blank):\n",
    "\n",
    "Reminder: you should not be sharing code."
   ]
  },
  {
   "cell_type": "markdown",
   "metadata": {},
   "source": [
    "### Instructions\n",
    "1. Fill in your name, Andrew ID, and collaborators above.\n",
    "2. Fill in the code/text blocks to answer each question.\n",
    "3. Do *not* change any of the existing code provided.\n",
    "4. Run the entire notebook *before* submitting it on Canvas to make sure that the code actually runs without errors. (**Important**: Any code cells that you have entered code for but did not actually execute will be disregarded, so please be sure to actually run your code first and make sure it runs without errors! We may re-run a subset of your code for grading purposes.)\n",
    "5. Be careful about where you save data for use with this Jupyter notebook (more details on this later)."
   ]
  },
  {
   "cell_type": "markdown",
   "metadata": {},
   "source": [
    "## Question 1: The Distribution of Words in a Human Language: Zipf's Law [45 pts]\n",
    "\n",
    "In this problem, you will be looking at a phenomenon of \"natural languages\" (i.e., human languages, such as English). As it turns out, when we look at the distribution of words in a different human languages, the distribution roughly follows what's called *Zipf's law* ([Wikipedia](https://en.wikipedia.org/wiki/Zipf%27s_law)).\n",
    "\n",
    "*Zipf's law* states that given a large sample of words used, any word's frequency is inversely proportional to its rank in the frequency table (the word with rank 1 is the most frequently occurring word, the word with rank 2 is the second most frequently occurring word, etc). In this problem, you are going to test Zipf's law on a real dataset and explore some of its properties.\n",
    "\n",
    "This problem assumes you have already installed the `spaCy` package ([https://spacy.io](https://spacy.io)). Instructions for installing this are part of the tutorial file \"`Anaconda, Jupyter, and spaCy setup tutorial.pdf`\". You can find how to access lemmatized tokens using `spaCy` by looking at the `spaCy` demo Jupyter notebook from lecture.\n",
    "\n",
    "Note: For this problem, you don't actually need `spaCy`'s named entity recognition, grammatical parsing, or part-of-speech tagging. Turning these elements off when you instantiate the nlp object can substantially speed up your code.  To make sure these are off when instantiating the nlp object, call: \n",
    "\n",
    "`\n",
    "nlp = spacy.load('en', disable=['ner', 'parser', 'tagger'])\n",
    "`\n",
    "\n",
    "\n",
    "(a) [5 pts] Read the data files.\n",
    "\n",
    "The dataset is a collection of the 100 most popular books downloaded from Gutenburg Project ([https://www.gutenberg.org/browse/scores/top](https://www.gutenberg.org/browse/scores/top)). Each file contains the text of a book. Now read all the texts from disk. This will be the corpus in this problem.\n",
    "\n",
    "Note: Please DO NOT change the folder name or the path, and make sure you use a relative path (e.g. './HW1_Dataset/*filename*) when reading the files. When grading your homework, we will put your Jupyter notebook file and the dataset in the same folder, and run your code. **You will receive 0 points for this problem if your code fails to load the data.**\n",
    "\n",
    "Hint: To list all files that match a certain pattern, you can use the `glob` package. Here's an example usage:\n",
    "\n",
    "`\n",
    "import glob\n",
    "print(glob.glob('./HW1_Dataset/*.txt'))\n",
    "`\n",
    "\n",
    "Hint: When debugging your code, you may want to first make sure your code runs on a few of the books rather than all 100 (for example, you can start by only having 3 of the text files in `HW1_Dataset`). Once you're confident that your solution is correct on a few text files, then run on all of them! This is a standard approach to debugging code that is meant to handle large datasets."
   ]
  },
  {
   "cell_type": "code",
   "execution_count": 1,
   "metadata": {
    "ExecuteTime": {
     "end_time": "2018-11-09T17:36:53.664391Z",
     "start_time": "2018-11-09T17:36:53.024884Z"
    }
   },
   "outputs": [],
   "source": [
    "########################################################################\n",
    "######################### Write your code here #########################\n",
    "import glob\n",
    "corpus = ''\n",
    "for filename in glob.glob('./HW1_Dataset/*.txt'):\n",
    "    with open(filename, encoding = \"utf-8\") as f:\n",
    "        corpus += f.read()\n",
    "########################################################################"
   ]
  },
  {
   "cell_type": "markdown",
   "metadata": {},
   "source": [
    "(b) [15 pts] Build the frequency table. Specifically, complete the following three tasks:\n",
    "\n",
    "  1. Process the text by separating and lemmatizing the words.\n",
    "  2. Then count the number of times each word appears in the corpus and build a frequency table. (In particular, use raw counts as the \"frequency\"--do not divide by the total number of words in the corpus.)\n",
    "  3. Sort the table and print the top 50 most frequent words, along with their frequencies and ranks. Don't worry about ties (for example, if multiple things have the same frequency, it's fine if your solution breaks ties arbitrarily in the sorting).\n",
    "\n",
    "Note: When counting the words, only include words (tokens) that consist of alphabetic letters (a-z and A-Z). You can do this with what's called a *regular expression*. For example, to check whether the words \"will.i.am\" or \"Tesla\" are alphabetic, you would do the following:\n",
    "\n",
    "`\n",
    "import re  # regular expression package\n",
    "if re.match('[a-zA-Z]+$', 'will.i.am'):\n",
    "    print('will.i.am consists only of alphabetic letters!')\n",
    "if re.match('[a-zA-Z]+$', 'Tesla'):\n",
    "    print('tesla consists only of alphabetic letters!')\n",
    "`"
   ]
  },
  {
   "cell_type": "code",
   "execution_count": 3,
   "metadata": {
    "ExecuteTime": {
     "end_time": "2018-11-09T17:48:26.749516Z",
     "start_time": "2018-11-09T17:42:26.314077Z"
    }
   },
   "outputs": [],
   "source": [
    "########################################################################\n",
    "######################### Write your code here #########################\n",
    "import spacy\n",
    "import re\n",
    "from collections import Counter\n",
    "\n",
    "nlp = spacy.load('en', disable=['ner', 'parser', 'tagger'])\n",
    "nlp.max_length = 70000000\n",
    "doc = nlp(corpus)\n",
    "\n",
    "histogram = Counter()\n",
    "for token in doc:\n",
    "    lemma = token.lemma_\n",
    "    if re.match('[a-zA-Z]+$', lemma):\n",
    "        histogram[lemma] += 1\n",
    "########################################################################"
   ]
  },
  {
   "cell_type": "code",
   "execution_count": 4,
   "metadata": {
    "ExecuteTime": {
     "end_time": "2018-11-09T17:50:02.535867Z",
     "start_time": "2018-11-09T17:50:02.457531Z"
    },
    "scrolled": true
   },
   "outputs": [
    {
     "name": "stdout",
     "output_type": "stream",
     "text": [
      "Rank  Lemma      Raw Count\n",
      "1     the        648221\n",
      "2     be         427198\n",
      "3     and        394399\n",
      "4     of         378295\n",
      "5     a          337297\n",
      "6     to         314597\n",
      "7     in         192739\n",
      "8     I          188246\n",
      "9     have       186525\n",
      "10    that       161248\n",
      "11    it         113563\n",
      "12    not        109370\n",
      "13    he         108068\n",
      "14    his        103577\n",
      "15    with       97311\n",
      "16    you        96055\n",
      "17    for        85044\n",
      "18    my         67638\n",
      "19    this       66436\n",
      "20    her        66397\n",
      "21    at         60422\n",
      "22    on         59621\n",
      "23    do         59514\n",
      "24    him        58621\n",
      "25    by         58315\n",
      "26    say        57996\n",
      "27    me         57913\n",
      "28    which      57185\n",
      "29    all        54975\n",
      "30    but        54373\n",
      "31    The        51617\n",
      "32    much       49285\n",
      "33    they       48283\n",
      "34    from       47775\n",
      "35    or         44776\n",
      "36    will       43240\n",
      "37    so         41933\n",
      "38    can        41622\n",
      "39    she        41240\n",
      "40    And        40296\n",
      "41    them       39321\n",
      "42    man        39135\n",
      "43    one        38040\n",
      "44    their      37293\n",
      "45    we         33704\n",
      "46    go         32335\n",
      "47    would      32098\n",
      "48    no         31262\n",
      "49    see        30728\n",
      "50    make       29958\n"
     ]
    }
   ],
   "source": [
    "########################################################################\n",
    "######################### Write your code here #########################\n",
    "import numpy as np\n",
    "\n",
    "# convert histogram into two lists `lemmas_unsorted` and `counts_unsorted`\n",
    "# where the i-th lemma in `lemmas_unsorted` has raw counts given by\n",
    "# `counts_unsorted[i]`\n",
    "lemmas_unsorted = []\n",
    "counts_unsorted = []\n",
    "for lemma, count in histogram.items():\n",
    "    lemmas_unsorted.append(lemma)\n",
    "    counts_unsorted.append(count)\n",
    "counts_unsorted = np.array(counts_unsorted)  # to allow for fancy numpy indexing\n",
    "\n",
    "# compute the indices that would sort the list `counts_unsorted` in\n",
    "# decreasing order (which is why there's a \"::-1\")\n",
    "sort_indices = np.argsort(counts_unsorted)[::-1]\n",
    "sorted_counts = counts_unsorted[sort_indices]  # actually for later problem subparts\n",
    "\n",
    "print('Rank'.ljust(5), 'Lemma'.ljust(10), 'Raw Count')\n",
    "for rank, idx in enumerate(sort_indices[:50]):\n",
    "    print(str(rank + 1).ljust(5), lemmas_unsorted[idx].ljust(10), counts_unsorted[idx])\n",
    "########################################################################"
   ]
  },
  {
   "cell_type": "markdown",
   "metadata": {},
   "source": [
    "(c) [10 pts] Visualize the frequency table by plotting a **raw scatter plot** (put frequency as the y-axis and rank as the x-axis), and a **log-log plot** (use logarithmic scales on both the x- and y- axes). Note that this should be for all words and not only the top 50. As before, for the ranks, do not worry about ties, i.e., break ties arbitrarily."
   ]
  },
  {
   "cell_type": "code",
   "execution_count": 4,
   "metadata": {
    "ExecuteTime": {
     "end_time": "2018-11-09T17:50:05.362811Z",
     "start_time": "2018-11-09T17:50:04.186620Z"
    }
   },
   "outputs": [
    {
     "data": {
      "text/plain": [
       "Text(0, 0.5, 'Raw Count')"
      ]
     },
     "execution_count": 4,
     "metadata": {},
     "output_type": "execute_result"
    },
    {
     "data": {
      "image/png": "[encoded data removed]",
      "text/plain": [
       "<Figure size 432x288 with 1 Axes>"
      ]
     },
     "metadata": {},
     "output_type": "display_data"
    }
   ],
   "source": [
    "# Raw scatter plot\n",
    "########################################################################\n",
    "######################### Write your code here #########################\n",
    "%matplotlib inline\n",
    "import matplotlib.pyplot as plt\n",
    "plt.style.use('ggplot')  # makes prettier plots\n",
    "\n",
    "# Using Solution from part (b):\n",
    "plt.scatter(np.array(range(len(sort_indices))) + 1, sorted_counts)\n",
    "plt.xlabel('Rank')\n",
    "plt.ylabel('Raw Count')\n",
    "########################################################################"
   ]
  },
  {
   "cell_type": "code",
   "execution_count": 5,
   "metadata": {
    "ExecuteTime": {
     "end_time": "2018-11-09T17:50:06.789528Z",
     "start_time": "2018-11-09T17:50:05.364671Z"
    },
    "scrolled": true
   },
   "outputs": [
    {
     "data": {
      "image/png": "[encoded data removed]",
      "text/plain": [
       "<Figure size 432x288 with 1 Axes>"
      ]
     },
     "metadata": {},
     "output_type": "display_data"
    }
   ],
   "source": [
    "# Log-log plot\n",
    "########################################################################\n",
    "######################### Write your code here #########################\n",
    "plt.scatter(np.array(range(len(sort_indices))) + 1, sorted_counts)\n",
    "plt.xlabel('Rank')\n",
    "plt.ylabel('Raw Count')\n",
    "axis = plt.gca()  # gets the current axis\n",
    "axis.set_xscale('log')\n",
    "axis.set_yscale('log')\n",
    "########################################################################"
   ]
  },
  {
   "cell_type": "markdown",
   "metadata": {},
   "source": [
    "(d) [15 pts] Explore the frequency table: Zipf's law states that term frequency is governed by a power law, i.e., the relationship between term frequency and rank can be approximated by $f(r) = cr^{-1}$, where $f(r)$ is the frequency of the term at rank $r$, $r$ is the rank of a term, and $c$ is a constant and is approximately 0.1*(corpus size) for English. \n",
    "\n",
    "Answer following questions:\n",
    "\n",
    "- What do you observe in the log-log plot above? Is this consist with the power law?"
   ]
  },
  {
   "cell_type": "markdown",
   "metadata": {},
   "source": [
    "Your text answer (for this question, your answer is *not* code): \n",
    "\n",
    "**Answer:** The log-log plot of frequency and rank are fitted in a line with negative slope. It is consist with the power law, as the power law suggests $log(f(r)) = -clog(r)$, which is a line with slope of $-c$."
   ]
  },
  {
   "cell_type": "markdown",
   "metadata": {},
   "source": [
    "- Think of the corpus as a (large) unigram bag of words. Following the analogy from lecture, imagine drawing a single word from this big bag (note that we are assuming that we've lemmatized the words and also filtered out non-alphanumeric words). What is the probability of drawing one of the 4 most frequent words? What is the probability of drawing one of the 50 most frequent words? Answer these two questions using code rather than just entering in the final answers as numbers."
   ]
  },
  {
   "cell_type": "code",
   "execution_count": 6,
   "metadata": {
    "ExecuteTime": {
     "end_time": "2018-11-09T17:50:07.066506Z",
     "start_time": "2018-11-09T17:50:07.059395Z"
    },
    "scrolled": false
   },
   "outputs": [
    {
     "name": "stdout",
     "output_type": "stream",
     "text": [
      "Probability of drawing one of the 4 most frequent words: \n",
      "0.15296304744676584\n",
      "Probability of drawing one of the 50 most frequent words: \n",
      "0.45646911361678544\n"
     ]
    }
   ],
   "source": [
    "print('Probability of drawing one of the 4 most frequent words: ')\n",
    "print(sorted_counts[:4].sum() / sorted_counts.sum())\n",
    "print('Probability of drawing one of the 50 most frequent words: ')\n",
    "print(sorted_counts[:50].sum() / sorted_counts.sum())"
   ]
  },
  {
   "cell_type": "markdown",
   "metadata": {},
   "source": [
    "- What proportion of the words occur only once? What proportion of the words occur fewer than 10 times?"
   ]
  },
  {
   "cell_type": "code",
   "execution_count": 7,
   "metadata": {
    "ExecuteTime": {
     "end_time": "2018-11-09T17:50:07.500025Z",
     "start_time": "2018-11-09T17:50:07.492308Z"
    },
    "scrolled": true
   },
   "outputs": [
    {
     "name": "stdout",
     "output_type": "stream",
     "text": [
      "Occur only once: \n",
      "0.44965528298861634\n",
      "Occur fewer than 10 times: \n",
      "0.7852689148985446\n"
     ]
    }
   ],
   "source": [
    "print(\"Occur only once: \")\n",
    "########################################################################\n",
    "######################### Write your code here #########################\n",
    "print((sorted_counts == 1).sum() / len(sorted_counts))\n",
    "########################################################################\n",
    "print(\"Occur fewer than 10 times: \")\n",
    "########################################################################\n",
    "######################### Write your code here #########################\n",
    "print((sorted_counts < 10).sum() / len(sorted_counts))\n",
    "########################################################################"
   ]
  },
  {
   "cell_type": "markdown",
   "metadata": {},
   "source": [
    "## Question 2: Entity Recognition and Pointwise Mutual Information (PMI) [50 pts]\n",
    "By using the entity recognition system in `spaCy`, let's identify named entities from newspaper articles. You'll be using Reuters corpus which contains more than ten thousand newspaper articles. To run the code below, you need to download the Reuters dataset. To do so, in a terminal/command line (recall that you can open a terminal from Jupyter's webpage that shows all the files, which by default is [http://localhost:8888/tree](http://localhost:8888/tree)), start up Python and enter:\n",
    "\n",
    "`\n",
    "import nltk\n",
    "nltk.download('reuters')\n",
    "`\n",
    "\n",
    "Then proceed to the problem subparts below.\n",
    "\n",
    "Note that in this problem you will need named entity recognition but not grammatical parsing or the part-of-speech tagging. Hence, you will want to instantiate the nlp object by calling:\n",
    "\n",
    "`\n",
    "nlp = spacy.load('en', disable=['parser', 'tagger'])\n",
    "`\n"
   ]
  },
  {
   "cell_type": "markdown",
   "metadata": {},
   "source": [
    "(a) [15 pts] Draw a bar chart in which one of the axes shows entity labels and the other shows the frequency of the corresponding label. Use the variables `reuters_nlp` and `label_counter` provided in the code below."
   ]
  },
  {
   "cell_type": "code",
   "execution_count": 3,
   "metadata": {},
   "outputs": [
    {
     "name": "stderr",
     "output_type": "stream",
     "text": [
      "[nltk_data] Downloading package reuters to\n",
      "[nltk_data]     /Users/ReverieHome/nltk_data...\n",
      "[nltk_data]   Package reuters is already up-to-date!\n"
     ]
    },
    {
     "data": {
      "text/plain": [
       "True"
      ]
     },
     "execution_count": 3,
     "metadata": {},
     "output_type": "execute_result"
    }
   ],
   "source": [
    "import nltk\n",
    "nltk.download('reuters')"
   ]
  },
  {
   "cell_type": "code",
   "execution_count": 4,
   "metadata": {
    "ExecuteTime": {
     "end_time": "2018-11-09T17:53:30.620536Z",
     "start_time": "2018-11-09T17:51:12.871235Z"
    },
    "scrolled": false
   },
   "outputs": [
    {
     "data": {
      "text/plain": [
       "([<matplotlib.axis.YTick at 0x1325acfd0>,\n",
       "  <matplotlib.axis.YTick at 0x1325bcc88>,\n",
       "  <matplotlib.axis.YTick at 0x1325dd048>,\n",
       "  <matplotlib.axis.YTick at 0x12fe846a0>,\n",
       "  <matplotlib.axis.YTick at 0x12fe84208>,\n",
       "  <matplotlib.axis.YTick at 0x12fe84e80>,\n",
       "  <matplotlib.axis.YTick at 0x12fe87cf8>,\n",
       "  <matplotlib.axis.YTick at 0x12fe87b38>,\n",
       "  <matplotlib.axis.YTick at 0x15ae3d2e8>,\n",
       "  <matplotlib.axis.YTick at 0x15ae3d7f0>,\n",
       "  <matplotlib.axis.YTick at 0x12fe87748>,\n",
       "  <matplotlib.axis.YTick at 0x12fe849b0>,\n",
       "  <matplotlib.axis.YTick at 0x15ae3d668>,\n",
       "  <matplotlib.axis.YTick at 0x15ae45320>,\n",
       "  <matplotlib.axis.YTick at 0x15ae45828>,\n",
       "  <matplotlib.axis.YTick at 0x15ae45d30>,\n",
       "  <matplotlib.axis.YTick at 0x15ae4d278>,\n",
       "  <matplotlib.axis.YTick at 0x15ae4d780>],\n",
       " <a list of 18 Text yticklabel objects>)"
      ]
     },
     "execution_count": 4,
     "metadata": {},
     "output_type": "execute_result"
    },
    {
     "data": {
      "image/png": "[encoded data removed]",
      "text/plain": [
       "<Figure size 432x288 with 1 Axes>"
      ]
     },
     "metadata": {
      "needs_background": "light"
     },
     "output_type": "display_data"
    }
   ],
   "source": [
    "import matplotlib.pyplot as plt\n",
    "from collections import Counter\n",
    "from nltk.corpus import reuters\n",
    "import re\n",
    "import spacy\n",
    "nlp = spacy.load('en', disable=['parser', 'tagger'])\n",
    "reuters_fileids = reuters.fileids()  # hint: when first debugging, consider looking at just the first few\n",
    "reuters_nlp = [nlp(re.sub('\\s+',' ', reuters.raw(i)).strip()) for i in reuters_fileids]\n",
    "label_counter = Counter()\n",
    "########################################################################\n",
    "######################### Write your code here #########################\n",
    "for article in reuters_nlp:\n",
    "    label_list = [ent.label_ for ent in article.ents]\n",
    "    label_counter.update(label_list)\n",
    "labels = [item[0] for item in label_counter.items()]\n",
    "label_occurrences = [item[1] for item in label_counter.items()]\n",
    "y_pos = range(len(labels))\n",
    "plt.barh(y_pos, label_occurrences, align='center', alpha=0.5)\n",
    "plt.yticks(y_pos, labels)\n",
    "########################################################################"
   ]
  },
  {
   "cell_type": "markdown",
   "metadata": {},
   "source": [
    "(b) [15 pts] Now list the top 10 most frequently occured entities (entity text and the number of occurrence) with labels `ORG` (organization) and `GPE` (countries, cities, states) respectively.\n",
    "\n",
    "Hint: Here, when counting the frequency, we need to count how many articles have an entity with the desired property. For every article, we add 1 if the article has the entity and 0 otherwise.  List filtering (as in Recitation 1) will be helpful here."
   ]
  },
  {
   "cell_type": "code",
   "execution_count": 13,
   "metadata": {
    "ExecuteTime": {
     "end_time": "2018-11-09T17:53:31.485207Z",
     "start_time": "2018-11-09T17:53:30.622181Z"
    },
    "scrolled": false
   },
   "outputs": [
    {
     "name": "stdout",
     "output_type": "stream",
     "text": [
      "Most frequently occurring organizations:\n",
      "  Avg: 583\n",
      "  Reuters: 445\n",
      "  the Securities and Exchange Commission: 244\n",
      "  EC: 240\n",
      "  USDA: 226\n",
      "  NET: 203\n",
      "  Treasury: 157\n",
      "  FED: 141\n",
      "  Congress: 138\n",
      "  Fed: 135\n",
      "\n",
      "Most frequently occurring locations:\n",
      "  U.S.: 1666\n",
      "  Shr: 690\n",
      "  Japan: 536\n",
      "  the United States: 345\n",
      "  U.K.: 309\n",
      "  New York: 267\n",
      "  Canada: 243\n",
      "  Washington: 239\n",
      "  West Germany: 232\n",
      "  JAPAN: 221\n"
     ]
    }
   ],
   "source": [
    "########################################################################\n",
    "######################### Write your code here #########################\n",
    "common_org = Counter()\n",
    "common_gpe = Counter()\n",
    "\n",
    "for article in reuters_nlp:\n",
    "    org_list = set([ent.lemma_ for ent in article.ents if ent.label_ == \"ORG\"])\n",
    "    gpe_list = set([ent.lemma_ for ent in article.ents if ent.label_ == \"GPE\"])\n",
    "    \n",
    "    # for counting total number of times entities occur and not just whether they occured in the article or not:\n",
    "    # org_list = [ent.lemma_ for ent in article.ents if ent.label_ == u\"ORG\"]\n",
    "    # gpe_list = [ent.lemma_ for ent in article.ents if ent.label_ == u\"GPE\"]\n",
    "    common_org.update(org_list)\n",
    "    common_gpe.update(gpe_list)\n",
    "\n",
    "print('Most frequently occurring organizations:')\n",
    "print(\"\\n\".join([\"  %s: %d\" % (entity, count) for entity, count in common_org.most_common(10)]))\n",
    "\n",
    "print()\n",
    "\n",
    "print('Most frequently occurring locations:')\n",
    "print(\"\\n\".join([\"  %s: %d\" % (entity, count) for entity, count in common_gpe.most_common(10)]))\n",
    "########################################################################"
   ]
  },
  {
   "cell_type": "markdown",
   "metadata": {},
   "source": [
    "(c) [20 pts] Give the top 50 `GPE` (countries, cities, states) entities that have the highest Pointwise Mutual Information (PMI) values with regard to the `ORG` (organization) entity **'opec'** (your list of this top 50 should be ranked in decreasing PMI value). Did you find any unexpected results? If so, why do you think it happened? If you found some of the results to be unsurprisingly, how come? \n",
    "\n",
    "Hint 1: As in lecture, when computing PMI, we will compute probabilities by counting the number of documents where entities occur or co-occur.  For example, $P('opec') = \\frac{number \\ \\ of \\ \\ documents \\ \\ containing \\ \\ 'opec'}{number \\ \\ of \\ \\ documents}$.  \n",
    "\n",
    "Hint 2: To compute this ranking, you do not have to compute the full PMI equation."
   ]
  },
  {
   "cell_type": "markdown",
   "metadata": {},
   "source": [
    "**Solution note:** For a specific `GPE` entity $x$, we have\n",
    "\n",
    "$$\\text{PMI}(\\text{opec}, x)\n",
    "= \\log\\frac{P(\\text{opec}, x)}{P(\\text{opec})P(x)}\n",
    "= \\log\\frac{\\frac{\\text{# articles opec and }x\\text{ are both in}}{\\text{total # articles}}}{P(\\text{opec})\\frac{\\text{# articles }x\\text{ is in}}{\\text{total # articles}}}\n",
    "= \\log\\frac{\\text{# articles opec and }x\\text{ are both in}}{P(\\text{opec})(\\text{# articles }x\\text{ is in})}\\,.$$\n",
    "\n",
    "For different values of $x$, $P(\\text{opec})$ is a constant! This means that in terms of ordering the different $x$'s by PMI, we do not need to compute $P(\\text{opec})$. Moreover, whether we take the logarithm or not also doesn't affect the ordering of the $x$'s according to PMI. Thus, for each $x$, it suffices to compute the fraction\n",
    "\n",
    "$$\\frac{\\text{# articles opec and }x\\text{ are both in}}{\\text{# articles }x\\text{ is in}}\\,.$$\n",
    "\n",
    "By sorting the $x$'s according to this fraction, we get the same ordering as if we sorted the $x$'s according to PMI."
   ]
  },
  {
   "cell_type": "code",
   "execution_count": 22,
   "metadata": {
    "ExecuteTime": {
     "end_time": "2018-11-09T17:53:32.350859Z",
     "start_time": "2018-11-09T17:53:31.487185Z"
    },
    "scrolled": true
   },
   "outputs": [
    {
     "name": "stdout",
     "output_type": "stream",
     "text": [
      "Rank  Location                       Co-occurrence Count  Occurrence Count    \n",
      "1     The United States '            1                    1                   \n",
      "2     Lichtblau                      1                    1                   \n",
      "3     Minas                          1                    1                   \n",
      "4     Duri                           1                    1                   \n",
      "5     Sulphur                        1                    1                   \n",
      "6     I.E.                           1                    1                   \n",
      "7     L.F.                           1                    1                   \n",
      "8     Emirates                       2                    2                   \n",
      "9     the Lake Charles               1                    1                   \n",
      "10    Bethesda                       1                    1                   \n",
      "11    Easter                         1                    1                   \n",
      "12    Gabon on Africa have           1                    1                   \n",
      "13    PGRT                           1                    1                   \n",
      "14    CERA                           1                    1                   \n",
      "15    Neutral Zone                   1                    1                   \n",
      "16    Saudi Arabia 500,000           1                    1                   \n",
      "17    Yanbu                          2                    2                   \n",
      "18    Reventador                     2                    2                   \n",
      "19    Ecaudor                        1                    1                   \n",
      "20    Aguarico                       1                    1                   \n",
      "21    El Salado                      1                    1                   \n",
      "22    Ju'aymah                       1                    1                   \n",
      "23    Tripoli                        2                    2                   \n",
      "24    Nazir                          1                    1                   \n",
      "25    SAUDI ARABIA 'S                1                    1                   \n",
      "26    BAHRAIN                        1                    1                   \n",
      "27    Doha                           1                    1                   \n",
      "28    Balao                          4                    4                   \n",
      "29    Visnews                        3                    3                   \n",
      "30    DISCUSSION                     1                    1                   \n",
      "31    Vienna                         17                   20                  \n",
      "32    Riyadh                         4                    5                   \n",
      "33    QUOTA                          3                    4                   \n",
      "34    Saudi Arabia have              11                   16                  \n",
      "35    Brent                          2                    3                   \n",
      "36    Dubai                          4                    6                   \n",
      "37    Quito                          4                    6                   \n",
      "38    Qatar                          15                   26                  \n",
      "39    Caracas                        5                    9                   \n",
      "40    Libya                          6                    11                  \n",
      "41    UAE                            8                    15                  \n",
      "42    ECUADOR                        16                   31                  \n",
      "43    Petromin                       1                    2                   \n",
      "44    INA                            1                    2                   \n",
      "45    Statfjord                      1                    2                   \n",
      "46    Jamaica                        2                    4                   \n",
      "47    Port Jerome                    1                    2                   \n",
      "48    Conable                        1                    2                   \n",
      "49    North Slope                    1                    2                   \n",
      "50    Saudi Arabia                   28                   59                  \n"
     ]
    }
   ],
   "source": [
    "########################################################################\n",
    "######################### Write your code here #########################\n",
    "co_occurrence = Counter()\n",
    "gpe_counts = Counter()\n",
    "\n",
    "for article in reuters_nlp:\n",
    "    article_gpe = set([ent.lemma_ for ent in article.ents if ent.label_ == u'GPE'])\n",
    "    article_org = set([ent.lemma_ for ent in article.ents if ent.label_ == u'ORG'])\n",
    "    gpe_counts.update(article_gpe)\n",
    "    if u'OPEC' in article_org:\n",
    "        co_occurrence.update(article_gpe)\n",
    "\n",
    "part_of_pmi = Counter()\n",
    "for gpe, co_count in co_occurrence.items():\n",
    "    part_of_pmi[gpe] = co_count / gpe_counts[gpe]\n",
    "    \n",
    "print('Rank'.ljust(5), 'Location'.ljust(30), 'Co-occurrence Count'.ljust(20), 'Occurrence Count'.ljust(20))\n",
    "\n",
    "for i, w in enumerate(sorted(part_of_pmi,\n",
    "                             key=part_of_pmi.get,\n",
    "                             reverse=True)[:50]):\n",
    "    print(str(i+1).ljust(5), w.ljust(30), str(co_occurrence[w]).ljust(20), str(gpe_counts[w]).ljust(20))\n",
    "########################################################################"
   ]
  },
  {
   "cell_type": "markdown",
   "metadata": {},
   "source": [
    "Your text answer (for this question, your answer is *not* code): \n",
    "\n",
    "**Answer:** Entities such as 'dubai' and 'qatar' were expected to have highest ranks since they are directly related to OPEC. However, in the result, somewhat meaningless entities have highest PMI values. This might be due to several reasons. First, the entity recognition labeling of spaCy is imperfect. Second, the number of documents (here, newspaper articles) might have been too small. Third, result reflects the nature of PMI, which gives high scores to rare words."
   ]
  }
 ],
 "metadata": {
  "anaconda-cloud": {},
  "kernelspec": {
   "display_name": "Python 3",
   "language": "python",
   "name": "python3"
  },
  "language_info": {
   "codemirror_mode": {
    "name": "ipython",
    "version": 3
   },
   "file_extension": ".py",
   "mimetype": "text/x-python",
   "name": "python",
   "nbconvert_exporter": "python",
   "pygments_lexer": "ipython3",
   "version": "3.6.8"
  }
 },
 "nbformat": 4,
 "nbformat_minor": 2
}
