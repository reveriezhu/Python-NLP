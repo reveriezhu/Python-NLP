{
 "cells": [
  {
   "cell_type": "markdown",
   "metadata": {},
   "source": [
    "# Part 3: Sentiment Analysis [50 points]\n",
    "\n",
    "Download data from: http://www.andrew.cmu.edu/user/georgech/HW3-data.zip <br>\n",
    "\n",
    "The folder contains:\n",
    "\n",
    "- train.csv\n",
    "- test.csv"
   ]
  },
  {
   "cell_type": "markdown",
   "metadata": {},
   "source": [
    "**Remark**: Again, just as with the first problem (3.1 on classification), we begin with some imports and also initialize a random number generator (which you didn't have to do). Our solutions below uses `pandas` (you are *not* required to have a solution that uses `pandas`)."
   ]
  },
  {
   "cell_type": "code",
   "execution_count": 1,
   "metadata": {},
   "outputs": [
    {
     "name": "stderr",
     "output_type": "stream",
     "text": [
      "/media/latte/anaconda3/lib/python3.6/site-packages/h5py/__init__.py:36: FutureWarning: Conversion of the second argument of issubdtype from `float` to `np.floating` is deprecated. In future, it will be treated as `np.float64 == np.dtype(float).type`.\n",
      "  from ._conv import register_converters as _register_converters\n"
     ]
    }
   ],
   "source": [
    "%matplotlib inline\n",
    "import numpy as np\n",
    "import matplotlib.pyplot as plt\n",
    "import os\n",
    "import tensorflow\n",
    "from glob import glob\n",
    "\n",
    "rng = np.random.RandomState(0)\n",
    "\n",
    "# these next two lines aim to make the output of Keras (when using TensorFlow\n",
    "# as the backend) deterministic (we do not expect that your code does this;\n",
    "# also this does not necessarily guarantee the output on different machines\n",
    "# to be identical)\n",
    "np.random.seed(1)\n",
    "tensorflow.set_random_seed(2)"
   ]
  },
  {
   "cell_type": "markdown",
   "metadata": {},
   "source": [
    "### (a) Read the training data  [5 Points]\n",
    "\n",
    "Read the data present in train.csv file. **Please do no change the file name. In particular, use a relative path, i.e., './HW3-data/train.csv'** <br>\n",
    "Perform the following cleaning on the data:\n",
    "1. Keep only the sentiment and sentiment text in the data - the first and the last coumn\n",
    "2. Shuffle the rows of the data frame such that the positive and negative tweets are mixed\n",
    "3. Print the first 5 sentiments.\n",
    "4. Print the number of positive and negative sentiment labels\n",
    "Note: If you are using `open()`, you may have to set `encoding='iso8859'`."
   ]
  },
  {
   "cell_type": "code",
   "execution_count": 2,
   "metadata": {},
   "outputs": [
    {
     "name": "stdout",
     "output_type": "stream",
     "text": [
      "        Sentiment                                               Text\n",
      "514293          0  i miss nikki nu nu already  shes always there ...\n",
      "142282          0  So I had a dream last night. I  remember a sig...\n",
      "403727          0  @girlyghost ohh poor sickly you   (((hugs)) ho...\n",
      "649503          0                               it is raining again \n",
      "610789          0          @MissKeriBaby wish I was in LA right now \n"
     ]
    }
   ],
   "source": [
    "import warnings\n",
    "warnings.filterwarnings('ignore')\n",
    "\n",
    "# note: you do not have to use pandas\n",
    "def read_data(csv_filename):\n",
    "    import pandas as pd\n",
    "    df = pd.read_csv(csv_filename, header=None, encoding='iso8859')\n",
    "\n",
    "    df = df[df.columns[[0, 5]]]\n",
    "    df.columns = ['Sentiment', 'Text']\n",
    "    df = df[df.Sentiment.isnull() == False]\n",
    "    df['Sentiment'] = df['Sentiment'].map(int)\n",
    "    df = df[df['Text'].isnull() == False]\n",
    "    df = df.sample(frac=1)\n",
    "    print(df.head(5))\n",
    "    df.groupby('Sentiment').count()\n",
    "    return df\n",
    "\n",
    "df = read_data('HW3-data/train.csv')"
   ]
  },
  {
   "cell_type": "markdown",
   "metadata": {},
   "source": [
    "### (b) Data Preparation [7 points]"
   ]
  },
  {
   "cell_type": "markdown",
   "metadata": {},
   "source": [
    "Before building a neural network model, we first need to prepare the data. The input to a RNN model  is a matrix with shape (a, b), where a is the number of samples (tweets), and b is the sequence length of each tweet. Prepare the data with the following steps:\n",
    "\n",
    "1\\. Take the RAW texts of the top 5000 tweets in the data and convert them to a list of strings, where each string is a tweet. [1 pt]"
   ]
  },
  {
   "cell_type": "code",
   "execution_count": 3,
   "metadata": {},
   "outputs": [
    {
     "name": "stderr",
     "output_type": "stream",
     "text": [
      "Using TensorFlow backend.\n"
     ]
    }
   ],
   "source": [
    "from keras.preprocessing.text import Tokenizer\n",
    "from keras.preprocessing.sequence import pad_sequences\n",
    "from sklearn.model_selection import train_test_split\n",
    "\n",
    "max_len = 120\n",
    "max_words = 10000\n",
    "\n",
    "texts = list(df['Text'].head(5000))\n",
    "labels = df['Sentiment'].head(5000)"
   ]
  },
  {
   "cell_type": "markdown",
   "metadata": {},
   "source": [
    "2\\. Use `Tokenizer` from `keras.preprocessing.text` to tokenize the texts and convert them to sequences (numbers) with `texts_to_sequences` method of `Tokenizer`. **When tokenizing, please only consider the top 10,000 words in the dataset (`num_words`=10,000)**. [4 pts]"
   ]
  },
  {
   "cell_type": "code",
   "execution_count": 4,
   "metadata": {},
   "outputs": [],
   "source": [
    "tokenizer = Tokenizer(num_words=max_words)\n",
    "tokenizer.fit_on_texts(texts)\n",
    "sequences = tokenizer.texts_to_sequences(texts)"
   ]
  },
  {
   "cell_type": "markdown",
   "metadata": {},
   "source": [
    "3\\. Use `pad_sequences` from `keras.preprocessing.sequence` to pad each sequence with zeros to **make the sequence length 120**. [2 pts]"
   ]
  },
  {
   "cell_type": "code",
   "execution_count": 5,
   "metadata": {},
   "outputs": [],
   "source": [
    "data = pad_sequences(sequences, maxlen=max_len)"
   ]
  },
  {
   "cell_type": "markdown",
   "metadata": {},
   "source": [
    "###  (c) Simple RNN [20 points]\n",
    "\n",
    "i) [8 points] Build a simple RNN model with the following specification:\n",
    "1. An embedding layer with output dimenstion 64.\n",
    "2. A simple RNN layer.\n",
    "3. A dense layer with sigmoid activation function for prediction.\n",
    "Print the summary of the model."
   ]
  },
  {
   "cell_type": "code",
   "execution_count": 6,
   "metadata": {},
   "outputs": [
    {
     "name": "stdout",
     "output_type": "stream",
     "text": [
      "_________________________________________________________________\n",
      "Layer (type)                 Output Shape              Param #   \n",
      "=================================================================\n",
      "embedding_1 (Embedding)      (None, 120, 64)           640000    \n",
      "_________________________________________________________________\n",
      "simple_rnn_1 (SimpleRNN)     (None, 64)                8256      \n",
      "_________________________________________________________________\n",
      "dense_1 (Dense)              (None, 1)                 65        \n",
      "=================================================================\n",
      "Total params: 648,321\n",
      "Trainable params: 648,321\n",
      "Non-trainable params: 0\n",
      "_________________________________________________________________\n"
     ]
    }
   ],
   "source": [
    "from keras.models import Sequential\n",
    "from keras.layers import Embedding, SimpleRNN, Dense\n",
    "\n",
    "simple_rnn_model = Sequential()\n",
    "simple_rnn_model.add(Embedding(max_words, 64, input_length=max_len))\n",
    "simple_rnn_model.add(SimpleRNN(64))\n",
    "simple_rnn_model.add(Dense(1, activation='sigmoid'))\n",
    "simple_rnn_model.summary()"
   ]
  },
  {
   "cell_type": "markdown",
   "metadata": {},
   "source": [
    "ii) [12 points] Now train the simple RNN model:\n",
    "\n",
    "1\\. Compile the model with binary cross entory as loss and accuracy as evaluation metrics."
   ]
  },
  {
   "cell_type": "markdown",
   "metadata": {},
   "source": [
    "2\\. Fit the model with the training set with 5 epochs (use 20% of the data as validation). Play with the batch size to find a value that seems to work well (for example, you may find a smaller choice like 32 to result in extremely slow learning; try larger values like 512, 1024, etc)."
   ]
  },
  {
   "cell_type": "markdown",
   "metadata": {},
   "source": [
    "3\\. Plot the training and validation accuracies across epochs."
   ]
  },
  {
   "cell_type": "code",
   "execution_count": 7,
   "metadata": {},
   "outputs": [
    {
     "name": "stdout",
     "output_type": "stream",
     "text": [
      "Train on 4000 samples, validate on 1000 samples\n",
      "Epoch 1/5\n",
      "4000/4000 [==============================] - 1s 280us/step - loss: 0.7030 - acc: 0.5098 - val_loss: 0.6887 - val_acc: 0.5440\n",
      "Epoch 2/5\n",
      "4000/4000 [==============================] - 0s 56us/step - loss: 0.6311 - acc: 0.7495 - val_loss: 0.6885 - val_acc: 0.5460\n",
      "Epoch 3/5\n",
      "4000/4000 [==============================] - 0s 59us/step - loss: 0.5686 - acc: 0.8475 - val_loss: 0.6945 - val_acc: 0.5060\n",
      "Epoch 4/5\n",
      "4000/4000 [==============================] - 0s 59us/step - loss: 0.4965 - acc: 0.9065 - val_loss: 0.6881 - val_acc: 0.5340\n",
      "Epoch 5/5\n",
      "4000/4000 [==============================] - 0s 66us/step - loss: 0.4363 - acc: 0.9412 - val_loss: 0.7086 - val_acc: 0.5190\n"
     ]
    },
    {
     "data": {
      "image/png": "[encoded data removed]",
      "text/plain": [
       "<Figure size 432x288 with 1 Axes>"
      ]
     },
     "metadata": {},
     "output_type": "display_data"
    }
   ],
   "source": [
    "simple_rnn_model.compile(optimizer='rmsprop',\n",
    "                         loss = 'binary_crossentropy',\n",
    "                         metrics=['acc'])\n",
    "\n",
    "rnn_history = simple_rnn_model.fit(data, labels,\n",
    "                                   validation_split=0.2,\n",
    "                                   epochs=5,\n",
    "                                   batch_size=1024)\n",
    "\n",
    "def accuracy_plot(history):\n",
    "    acc = history.history['acc']\n",
    "    val_acc = history.history['val_acc']\n",
    "\n",
    "    epochs = range(1, len(acc) + 1)\n",
    "    plt.plot(epochs, acc, 'bo', label='Training acc')\n",
    "    plt.plot(epochs, val_acc, 'b', label='Validation acc')\n",
    "    plt.title('Training and validation accuracy')\n",
    "    plt.legend()\n",
    "    plt.show()\n",
    "\n",
    "accuracy_plot(rnn_history)"
   ]
  },
  {
   "cell_type": "markdown",
   "metadata": {},
   "source": [
    "### LSTM [4 points] "
   ]
  },
  {
   "cell_type": "markdown",
   "metadata": {},
   "source": [
    "i) [2 point] Now built a LSTM model by replacing the simple RNN layter in the above model with a LSTM layer. Print a summary of the LSTM model."
   ]
  },
  {
   "cell_type": "code",
   "execution_count": 8,
   "metadata": {},
   "outputs": [
    {
     "name": "stdout",
     "output_type": "stream",
     "text": [
      "_________________________________________________________________\n",
      "Layer (type)                 Output Shape              Param #   \n",
      "=================================================================\n",
      "embedding_2 (Embedding)      (None, 120, 64)           640000    \n",
      "_________________________________________________________________\n",
      "lstm_1 (LSTM)                (None, 64)                33024     \n",
      "_________________________________________________________________\n",
      "dense_2 (Dense)              (None, 1)                 65        \n",
      "=================================================================\n",
      "Total params: 673,089\n",
      "Trainable params: 673,089\n",
      "Non-trainable params: 0\n",
      "_________________________________________________________________\n"
     ]
    }
   ],
   "source": [
    "from keras.layers import LSTM\n",
    "\n",
    "lstm_model = Sequential()\n",
    "lstm_model.add(Embedding(max_words, 64, input_length=max_len))\n",
    "lstm_model.add(LSTM(64))\n",
    "lstm_model.add(Dense(1, activation='sigmoid'))\n",
    "lstm_model.summary()"
   ]
  },
  {
   "cell_type": "markdown",
   "metadata": {},
   "source": [
    "ii) [2 point] Train the LSTM model with the same specifications in the simple RNN model. Again, plot the training and validation accuracy for each epoch."
   ]
  },
  {
   "cell_type": "code",
   "execution_count": 9,
   "metadata": {},
   "outputs": [
    {
     "name": "stdout",
     "output_type": "stream",
     "text": [
      "Train on 4000 samples, validate on 1000 samples\n",
      "Epoch 1/5\n",
      "4000/4000 [==============================] - 1s 291us/step - loss: 0.6920 - acc: 0.5355 - val_loss: 0.6885 - val_acc: 0.5900\n",
      "Epoch 2/5\n",
      "4000/4000 [==============================] - 1s 182us/step - loss: 0.6800 - acc: 0.6762 - val_loss: 0.6743 - val_acc: 0.6560\n",
      "Epoch 3/5\n",
      "4000/4000 [==============================] - 1s 180us/step - loss: 0.6525 - acc: 0.6482 - val_loss: 0.6603 - val_acc: 0.6630\n",
      "Epoch 4/5\n",
      "4000/4000 [==============================] - 1s 187us/step - loss: 0.6153 - acc: 0.8133 - val_loss: 0.6381 - val_acc: 0.6810\n",
      "Epoch 5/5\n",
      "4000/4000 [==============================] - 1s 180us/step - loss: 0.5600 - acc: 0.8022 - val_loss: 0.6128 - val_acc: 0.6590\n"
     ]
    },
    {
     "data": {
      "image/png": "[encoded data removed]",
      "text/plain": [
       "<Figure size 432x288 with 1 Axes>"
      ]
     },
     "metadata": {},
     "output_type": "display_data"
    }
   ],
   "source": [
    "lstm_model.compile(optimizer='rmsprop',\n",
    "              loss = 'binary_crossentropy',\n",
    "              metrics=['acc'])\n",
    "\n",
    "lstm_history = lstm_model.fit(data, labels,\n",
    "                              validation_split=0.2,\n",
    "                              epochs=5,\n",
    "                              batch_size=1024)\n",
    "\n",
    "accuracy_plot(lstm_history)"
   ]
  },
  {
   "cell_type": "markdown",
   "metadata": {},
   "source": [
    "### (e) Evaluation on test data [14 points]"
   ]
  },
  {
   "cell_type": "markdown",
   "metadata": {},
   "source": [
    "i) [5 points] Using the simple RNN and LSTM models from the previous parts (do *not* retrain these using the full training dataset; it's fine to use the same models you learned from before where technically 20% of the training data were held out as validation data), evaluate their performance on the *test* set (`test.csv`). What are the test set raw accuracies that you get?"
   ]
  },
  {
   "cell_type": "code",
   "execution_count": 10,
   "metadata": {},
   "outputs": [
    {
     "name": "stdout",
     "output_type": "stream",
     "text": [
      "     Sentiment                                               Text\n",
      "473          0   Off to the bank to get my new visa platinum card\n",
      "348          0  Learning jQuery 1.3 Book Review - http://cfblo...\n",
      "174          0  Sony coupon code.. Expires soon.. http://www.c...\n",
      "184          0        The safeway bathroom still smells like ass!\n",
      "463          1  GOT MY WAVE SANDBOX INVITE! Extra excited! Too...\n",
      "498/498 [==============================] - 0s 856us/step\n",
      "SimpleRNN test set accuracy: 0.6164658639325674\n",
      "498/498 [==============================] - 1s 2ms/step\n",
      "LSTM model test set accuracy: 0.4497991971462127\n"
     ]
    }
   ],
   "source": [
    "test_df = read_data('HW3-data/test.csv')\n",
    "test_texts = list(test_df['Text'])\n",
    "test_labels = test_df['Sentiment']\n",
    "test_sequences = tokenizer.texts_to_sequences(test_texts)\n",
    "test_data = pad_sequences(test_sequences, maxlen=max_len)\n",
    "\n",
    "simple_rnn_test_loss, simple_rnn_test_acc = simple_rnn_model.evaluate(test_data, test_labels)\n",
    "print('SimpleRNN test set accuracy:', simple_rnn_test_acc)\n",
    "\n",
    "lstm_test_loss, lstm_test_acc = lstm_model.evaluate(test_data, test_labels)\n",
    "print('LSTM model test set accuracy:', lstm_test_acc)"
   ]
  },
  {
   "cell_type": "markdown",
   "metadata": {},
   "source": [
    "ii) [9 points] In the previous models, we only use the top 5000 tweets. Now train the LSTM-based model using the whole training dataset. Again use 20% of the training dataset as validation. After learning the model, test it on the true test set. What is the test set raw accuracy that you get? How does this test set accuracy compare to the validation accuracy, and to the test set accuracy you got from using only 5000 tweets (or technically 5000\\*0.8=4000 tweets to train)?"
   ]
  },
  {
   "cell_type": "code",
   "execution_count": 11,
   "metadata": {},
   "outputs": [
    {
     "name": "stdout",
     "output_type": "stream",
     "text": [
      "_________________________________________________________________\n",
      "Layer (type)                 Output Shape              Param #   \n",
      "=================================================================\n",
      "embedding_3 (Embedding)      (None, 120, 64)           640000    \n",
      "_________________________________________________________________\n",
      "lstm_2 (LSTM)                (None, 64)                33024     \n",
      "_________________________________________________________________\n",
      "dense_3 (Dense)              (None, 1)                 65        \n",
      "=================================================================\n",
      "Total params: 673,089\n",
      "Trainable params: 673,089\n",
      "Non-trainable params: 0\n",
      "_________________________________________________________________\n",
      "Train on 1280000 samples, validate on 320000 samples\n",
      "Epoch 1/5\n",
      "1280000/1280000 [==============================] - 228s 178us/step - loss: 0.4413 - acc: 0.7950 - val_loss: 0.4115 - val_acc: 0.8105\n",
      "Epoch 2/5\n",
      "1280000/1280000 [==============================] - 227s 177us/step - loss: 0.3997 - acc: 0.8181 - val_loss: 0.4008 - val_acc: 0.8180\n",
      "Epoch 3/5\n",
      "1280000/1280000 [==============================] - 227s 177us/step - loss: 0.3870 - acc: 0.8249 - val_loss: 0.3929 - val_acc: 0.8220\n",
      "Epoch 4/5\n",
      "1280000/1280000 [==============================] - 227s 177us/step - loss: 0.3792 - acc: 0.8291 - val_loss: 0.3905 - val_acc: 0.8234\n",
      "Epoch 5/5\n",
      "1280000/1280000 [==============================] - 227s 177us/step - loss: 0.3730 - acc: 0.8325 - val_loss: 0.3906 - val_acc: 0.8238\n"
     ]
    },
    {
     "data": {
      "image/png": "[encoded data removed]",
      "text/plain": [
       "<Figure size 432x288 with 1 Axes>"
      ]
     },
     "metadata": {},
     "output_type": "display_data"
    },
    {
     "name": "stdout",
     "output_type": "stream",
     "text": [
      "498/498 [==============================] - 1s 2ms/step\n",
      "LSTM model test set accuracy (training using bigger dataset): 0.6465863460996544\n"
     ]
    }
   ],
   "source": [
    "all_texts = list(df['Text'])\n",
    "all_tokenizer = Tokenizer(num_words=max_words)\n",
    "all_tokenizer.fit_on_texts(all_texts)\n",
    "all_sequences = all_tokenizer.texts_to_sequences(all_texts)\n",
    "all_labels = df['Sentiment']\n",
    "\n",
    "all_data = pad_sequences(all_sequences, maxlen=max_len)\n",
    "\n",
    "lstm_model_big = Sequential()\n",
    "lstm_model_big.add(Embedding(max_words, 64, input_length=max_len))\n",
    "lstm_model_big.add(LSTM(64))\n",
    "lstm_model_big.add(Dense(1, activation='sigmoid'))\n",
    "lstm_model_big.summary()\n",
    "\n",
    "lstm_model_big.compile(optimizer='rmsprop',\n",
    "                       loss = 'binary_crossentropy',\n",
    "                       metrics=['acc'])\n",
    "\n",
    "lstm_history_big = lstm_model_big.fit(all_data, all_labels,\n",
    "                                      validation_split=0.2,\n",
    "                                      epochs=5,\n",
    "                                      batch_size=1024)\n",
    "\n",
    "accuracy_plot(lstm_history_big)\n",
    "\n",
    "# the test dataset is still the same size (in terms of number of examples);\n",
    "# however we use `all_tokenizer` now instead of `tokenizer`\n",
    "test_sequences_big = all_tokenizer.texts_to_sequences(test_texts)\n",
    "test_data_big = pad_sequences(test_sequences_big, maxlen=max_len)\n",
    "lstm_test_loss_big, lstm_test_acc_big = lstm_model_big.evaluate(test_data_big, test_labels)\n",
    "print('LSTM model test set accuracy (training using bigger dataset):', lstm_test_acc_big)"
   ]
  },
  {
   "cell_type": "markdown",
   "metadata": {},
   "source": [
    "Unsurprisingly, the test set accuracy is dramatically higher when we fit the LSTM model using the full training dataset compared to using only 5000 samples. For comparison, we also fit the simple RNN model using the full training dataset below and evaluate on the test set (in this case, the simple RNN model does slightly better than the LSTM model; note that the performance gap between the two is much smaller than in the case where we train using only 5000 samples):"
   ]
  },
  {
   "cell_type": "code",
   "execution_count": 12,
   "metadata": {},
   "outputs": [
    {
     "name": "stdout",
     "output_type": "stream",
     "text": [
      "_________________________________________________________________\n",
      "Layer (type)                 Output Shape              Param #   \n",
      "=================================================================\n",
      "embedding_4 (Embedding)      (None, 120, 64)           640000    \n",
      "_________________________________________________________________\n",
      "simple_rnn_2 (SimpleRNN)     (None, 64)                8256      \n",
      "_________________________________________________________________\n",
      "dense_4 (Dense)              (None, 1)                 65        \n",
      "=================================================================\n",
      "Total params: 648,321\n",
      "Trainable params: 648,321\n",
      "Non-trainable params: 0\n",
      "_________________________________________________________________\n",
      "Train on 1280000 samples, validate on 320000 samples\n",
      "Epoch 1/5\n",
      "1280000/1280000 [==============================] - 95s 74us/step - loss: 0.4635 - acc: 0.7841 - val_loss: 0.4378 - val_acc: 0.7996\n",
      "Epoch 2/5\n",
      "1280000/1280000 [==============================] - 96s 75us/step - loss: 0.4223 - acc: 0.8076 - val_loss: 0.4184 - val_acc: 0.8084\n",
      "Epoch 3/5\n",
      "1280000/1280000 [==============================] - 98s 76us/step - loss: 0.4044 - acc: 0.8166 - val_loss: 0.4136 - val_acc: 0.8110\n",
      "Epoch 4/5\n",
      "1280000/1280000 [==============================] - 96s 75us/step - loss: 0.3930 - acc: 0.8232 - val_loss: 0.4087 - val_acc: 0.8147\n",
      "Epoch 5/5\n",
      "1280000/1280000 [==============================] - 91s 71us/step - loss: 0.3822 - acc: 0.8293 - val_loss: 0.4125 - val_acc: 0.8138\n"
     ]
    },
    {
     "data": {
      "image/png": "[encoded data removed]",
      "text/plain": [
       "<Figure size 432x288 with 1 Axes>"
      ]
     },
     "metadata": {},
     "output_type": "display_data"
    },
    {
     "name": "stdout",
     "output_type": "stream",
     "text": [
      "498/498 [==============================] - 0s 876us/step\n",
      "Simple RNN model test set accuracy (training using bigger dataset): 0.6546184734168302\n"
     ]
    }
   ],
   "source": [
    "simple_rnn_model_big = Sequential()\n",
    "simple_rnn_model_big.add(Embedding(max_words, 64, input_length=max_len))\n",
    "simple_rnn_model_big.add(SimpleRNN(64))\n",
    "simple_rnn_model_big.add(Dense(1, activation='sigmoid'))\n",
    "simple_rnn_model_big.summary()\n",
    "\n",
    "simple_rnn_model_big.compile(optimizer='rmsprop',\n",
    "                             loss = 'binary_crossentropy',\n",
    "                             metrics=['acc'])\n",
    "\n",
    "simple_rnn_history_big = simple_rnn_model_big.fit(all_data, all_labels,\n",
    "                                                  validation_split=0.2,\n",
    "                                                  epochs=5,\n",
    "                                                  batch_size=1024)\n",
    "\n",
    "accuracy_plot(simple_rnn_history_big)\n",
    "simple_rnn_test_loss_big, simple_rnn_test_acc_big = simple_rnn_model_big.evaluate(test_data_big, test_labels)\n",
    "print('Simple RNN model test set accuracy (training using bigger dataset):', simple_rnn_test_acc_big)"
   ]
  }
 ],
 "metadata": {
  "kernelspec": {
   "display_name": "Python 3",
   "language": "python",
   "name": "python3"
  },
  "language_info": {
   "codemirror_mode": {
    "name": "ipython",
    "version": 3
   },
   "file_extension": ".py",
   "mimetype": "text/x-python",
   "name": "python",
   "nbconvert_exporter": "python",
   "pygments_lexer": "ipython3",
   "version": "3.6.5"
  }
 },
 "nbformat": 4,
 "nbformat_minor": 2
}
