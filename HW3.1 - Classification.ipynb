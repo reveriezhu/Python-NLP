{
 "cells": [
  {
   "cell_type": "markdown",
   "metadata": {},
   "source": [
    "# Part 1: Email spam classification [50 points]"
   ]
  },
  {
   "cell_type": "markdown",
   "metadata": {},
   "source": [
    "   - Get the data from: http://www.andrew.cmu.edu/user/georgech/preprocessed-enron-email-dataset.zip\n",
    "   - Unzip this into the same folder as this notebook, rename it to `email-data`\n",
    "   - The folder contains 3 subfolders:\n",
    "      - `ham` contains ham emails.\n",
    "      - `spam` contains spam emails.\n",
    "      - `testing` is a folder containing test emails for your classifier. The ham/spam label is in the filename.\n",
    "      \n",
    "**Important**: For this problem, do *not* use neural nets/deep nets."
   ]
  },
  {
   "cell_type": "markdown",
   "metadata": {},
   "source": [
    "**Remark**: We begin with some boilerplate imports. Also, for the solutions, we initialize a **single** random number generator with random seed 0 once at the beginning (you did not have to do this). In practice, some times people will write code in this way if there are lots of randomized procedures being run, and rather than having every single one of these random procedures be given a random seed of 0 (or some other constant), we just keep working with a single random number generator that has been seeded initially (so that the code output is reproducible)."
   ]
  },
  {
   "cell_type": "code",
   "execution_count": 1,
   "metadata": {},
   "outputs": [],
   "source": [
    "%matplotlib inline\n",
    "import numpy as np\n",
    "import matplotlib.pyplot as plt\n",
    "import os\n",
    "from glob import glob\n",
    "\n",
    "rng = np.random.RandomState(0)"
   ]
  },
  {
   "cell_type": "markdown",
   "metadata": {},
   "source": [
    "### Print the number of ham and spam emails [1 point]\n",
    " \n",
    "In addition to providing the code, respond to the following questions:\n",
    "\n",
    "   - Is this dataset imbalanced? Will this be problematic in training the model?\n",
    "   - If so, how would you address it?"
   ]
  },
  {
   "cell_type": "code",
   "execution_count": 2,
   "metadata": {},
   "outputs": [
    {
     "name": "stdout",
     "output_type": "stream",
     "text": [
      "3671\n",
      "1500\n"
     ]
    }
   ],
   "source": [
    "spam_count = len(glob('./email-data/spam/*.txt'))\n",
    "ham_count = len(glob('./email-data/ham/*.txt'))\n",
    "print(spam_count)\n",
    "print(ham_count)"
   ]
  },
  {
   "cell_type": "markdown",
   "metadata": {},
   "source": [
    "While there's class imbalance (in particular a lot more spam than ham examples), the class imbalance is not extreme (e.g., where one class takes up 99% of the total number of examples). To deal with this class imbalance, we use stratified k-fold cross-validation later instead of standard k-fold cross-validation to preserve the class proportions per fold (stratified k-fold cross-validation just enforces that the same proportion of each class is sampled per fold as the overall training data). Again, since the class imbalance is actually not that extreme, this sort of precaution isn't actually necessary. Note that if instead the class imbalance were extreme, a strategy like stratified k-fold cross-validation could be essential to ensure that enough minority class examples actually show up in each fold."
   ]
  },
  {
   "cell_type": "markdown",
   "metadata": {},
   "source": [
    "### Construct the documents [4 points]\n",
    " \n",
    "   - Provided below is a function that returns a document present in a file given a fileName.\n",
    "   - The function performs some preprocessing to (1) remove punctuation, (2),(3) remove whitespace and (4) lowercase all words.\n",
    "   - Use this function to construct a list of documents.\n",
    "   - Also construct a list of document labels containing `1` for spam and `0` for ham."
   ]
  },
  {
   "cell_type": "code",
   "execution_count": 3,
   "metadata": {},
   "outputs": [],
   "source": [
    "import re\n",
    "import string\n",
    "import codecs\n",
    "\n",
    "def makeWordList(path):\n",
    "    \n",
    "    with codecs.open(path, \"r\", encoding='utf-8', errors='ignore') as f:\n",
    "        corpus_text = f.read()\n",
    "\n",
    "    for c in string.punctuation:\n",
    "        corpus_text = corpus_text.replace(c, \"\")  # -- (1)\n",
    "    \n",
    "    text = re.sub(r'\\S*\\d\\S*','',corpus_text) # -- (2)\n",
    "    text = re.sub(r'[^\\w\\s]','',text)         # -- (3)\n",
    "    \n",
    "    text = text.lower().split()           # -- (4)         \n",
    "    \n",
    "    li = []\n",
    "    for token in text:\n",
    "        li.append(token)\n",
    "\n",
    "    return \" \".join(li)"
   ]
  },
  {
   "cell_type": "code",
   "execution_count": 4,
   "metadata": {},
   "outputs": [
    {
     "name": "stdout",
     "output_type": "stream",
     "text": [
      "5171\n"
     ]
    }
   ],
   "source": [
    "documents = [makeWordList(filename) for filename in glob('./email-data/spam/*.txt')] \\\n",
    "    + [makeWordList(filename) for filename in glob('./email-data/ham/*.txt')]\n",
    "labels = np.concatenate((np.ones(spam_count), np.zeros(ham_count)))\n",
    "print(len(documents))"
   ]
  },
  {
   "cell_type": "markdown",
   "metadata": {},
   "source": [
    "### Construct the document matrix `X` as a matrix of word frequencies [5 points]\n",
    "\n",
    "   - Use the `CountVectorizer` from scikit-learn.\n",
    "   - Set `min_df=50`; this drops words that don't occur in at least 50 documents.\n",
    "   - Set `stop_words=\"english\"` and `max_df=0.8` to filter out stop-words.\n",
    "   - Print the size of the vocabulary (number of unique words)"
   ]
  },
  {
   "cell_type": "code",
   "execution_count": 5,
   "metadata": {
    "scrolled": true
   },
   "outputs": [
    {
     "name": "stdout",
     "output_type": "stream",
     "text": [
      "1680\n"
     ]
    }
   ],
   "source": [
    "from sklearn.feature_extraction.text import CountVectorizer\n",
    "vectorizer = CountVectorizer(min_df=50, max_df=0.8, stop_words=\"english\")\n",
    "X = vectorizer.fit_transform(documents)\n",
    "print(len(vectorizer.vocabulary_))"
   ]
  },
  {
   "cell_type": "markdown",
   "metadata": {},
   "source": [
    "### k-NN, SVM, random forest: Hyperparameter selection [20 points]\n",
    "\n",
    "Now that you have your documents and labels as training data, you can perform 5-fold cross-validation to select the hyperparameters for different learning algorithms.\n",
    "\n",
    "The hyperparameter with the best performance averaged across 5 folds is chosen. Use the **weighted F1-score** as the evaluation metric (i.e., for the `f1_score` function in `sklearn.metrics`, be sure to use the parameter `average='weighted'`).\n",
    "\n",
    "   - k-NN: Select `k` from a range of values of your choice.\n",
    "   - SVM: (SVC) Select `C` from a range of your choice, use any kernel that performs well.\n",
    "   - Random forest: Select `n_estimators` **and** `max_depth` from a grid of your choice.\n",
    "\n",
    "Store each chosen hyperparameter as `best_k`, `best_C`, `best_n_estimators`, and `best_max_depth` respectively.\n",
    "\n",
    "Provided is some seed code for cross-validation that you may modify and reuse. Do not use the cross-validations score or grid-search functions from scikit-learn (you may use `KFold`)."
   ]
  },
  {
   "cell_type": "code",
   "execution_count": 6,
   "metadata": {},
   "outputs": [],
   "source": [
    "# To deal with class imbalance, we explicitly use StratifiedKFold\n",
    "# instead of KFold (note that you did not have to do this)\n",
    "\n",
    "from sklearn.model_selection import StratifiedKFold\n",
    "from sklearn.metrics import f1_score"
   ]
  },
  {
   "cell_type": "code",
   "execution_count": 7,
   "metadata": {
    "scrolled": false
   },
   "outputs": [
    {
     "name": "stdout",
     "output_type": "stream",
     "text": [
      "k = 1\n",
      "\t[fold 0] k: 1.00000, accuracy: 0.93947\n",
      "\t[fold 1] k: 1.00000, accuracy: 0.93656\n",
      "\t[fold 2] k: 1.00000, accuracy: 0.93726\n",
      "\t[fold 3] k: 1.00000, accuracy: 0.93846\n",
      "\t[fold 4] k: 1.00000, accuracy: 0.93510\n",
      "\tMean F1 score: 0.9373704451004355\n",
      "k = 2\n",
      "\t[fold 0] k: 2.00000, accuracy: 0.93897\n",
      "\t[fold 1] k: 2.00000, accuracy: 0.92931\n",
      "\t[fold 2] k: 2.00000, accuracy: 0.93103\n",
      "\t[fold 3] k: 2.00000, accuracy: 0.93695\n",
      "\t[fold 4] k: 2.00000, accuracy: 0.93592\n",
      "\tMean F1 score: 0.9344384229088231\n",
      "k = 3\n",
      "\t[fold 0] k: 3.00000, accuracy: 0.91924\n",
      "\t[fold 1] k: 3.00000, accuracy: 0.91487\n",
      "\t[fold 2] k: 3.00000, accuracy: 0.90837\n",
      "\t[fold 3] k: 3.00000, accuracy: 0.91405\n",
      "\t[fold 4] k: 3.00000, accuracy: 0.91149\n",
      "\tMean F1 score: 0.9136051545147327\n",
      "k = 4\n",
      "\t[fold 0] k: 4.00000, accuracy: 0.93645\n",
      "\t[fold 1] k: 4.00000, accuracy: 0.92596\n",
      "\t[fold 2] k: 4.00000, accuracy: 0.92636\n",
      "\t[fold 3] k: 4.00000, accuracy: 0.94806\n",
      "\t[fold 4] k: 4.00000, accuracy: 0.91985\n",
      "\tMean F1 score: 0.9313370501295493\n",
      "k = 5\n",
      "\t[fold 0] k: 5.00000, accuracy: 0.92031\n",
      "\t[fold 1] k: 5.00000, accuracy: 0.90932\n",
      "\t[fold 2] k: 5.00000, accuracy: 0.90823\n",
      "\t[fold 3] k: 5.00000, accuracy: 0.93606\n",
      "\t[fold 4] k: 5.00000, accuracy: 0.90495\n",
      "\tMean F1 score: 0.9157722886401644\n",
      "Best k: 1\n"
     ]
    }
   ],
   "source": [
    "from sklearn.neighbors import KNeighborsClassifier\n",
    "\n",
    "num_folds = 5\n",
    "k_fold = StratifiedKFold(num_folds, random_state=rng)\n",
    "param_values = np.arange(1, 6, 1)\n",
    "\n",
    "arg_max = -np.inf\n",
    "best_k = None\n",
    "for i in param_values:\n",
    "    fold_scores = []\n",
    "    print(\"k = \" + str(i))\n",
    "    for k, (train, val) in enumerate(k_fold.split(X, labels)):\n",
    "        clf = KNeighborsClassifier(n_neighbors=i)\n",
    "        clf.fit(X[train], labels[train])\n",
    "        \n",
    "        ypred = clf.predict(X[val])\n",
    "        yval = labels[val]\n",
    "        a = f1_score(yval, ypred, average='weighted')\n",
    "        fold_scores.append(a)\n",
    "        print(\"\\t[fold {0}] k: {1:.5f}, accuracy: {2:.5f}\".format(k, i, a))\n",
    "        \n",
    "    cross_val_score = np.mean(fold_scores)\n",
    "    print(\"\\tMean F1 score: \" + str(cross_val_score))\n",
    "    \n",
    "    if cross_val_score > arg_max:\n",
    "        arg_max = cross_val_score\n",
    "        best_k = i\n",
    "            \n",
    "print('Best k:', best_k)"
   ]
  },
  {
   "cell_type": "code",
   "execution_count": 8,
   "metadata": {
    "scrolled": false
   },
   "outputs": [
    {
     "name": "stdout",
     "output_type": "stream",
     "text": [
      "C = 0.0001\n",
      "\t[fold 0] C: 0.00010, accuracy: 0.93366\n",
      "\t[fold 1] C: 0.00010, accuracy: 0.91652\n",
      "\t[fold 2] C: 0.00010, accuracy: 0.92405\n",
      "\t[fold 3] C: 0.00010, accuracy: 0.93780\n",
      "\t[fold 4] C: 0.00010, accuracy: 0.92298\n",
      "\tMean F1 score: 0.9270005183900499\n",
      "C = 0.1\n",
      "\t[fold 0] C: 0.10000, accuracy: 0.99419\n",
      "\t[fold 1] C: 0.10000, accuracy: 0.98445\n",
      "\t[fold 2] C: 0.10000, accuracy: 0.98446\n",
      "\t[fold 3] C: 0.10000, accuracy: 0.99225\n",
      "\t[fold 4] C: 0.10000, accuracy: 0.98638\n",
      "\tMean F1 score: 0.9883453627502977\n",
      "C = 100.0\n",
      "\t[fold 0] C: 100.00000, accuracy: 0.99128\n",
      "\t[fold 1] C: 100.00000, accuracy: 0.97868\n",
      "\t[fold 2] C: 100.00000, accuracy: 0.97874\n",
      "\t[fold 3] C: 100.00000, accuracy: 0.98551\n",
      "\t[fold 4] C: 100.00000, accuracy: 0.97284\n",
      "\tMean F1 score: 0.9814122416072646\n",
      "Best C: 0.1\n"
     ]
    }
   ],
   "source": [
    "from sklearn import svm\n",
    "\n",
    "num_folds = 5\n",
    "k_fold = StratifiedKFold(num_folds, random_state=rng)\n",
    "param_values = np.logspace(-4, 2, 3)\n",
    "\n",
    "arg_max = -np.inf\n",
    "best_C = None\n",
    "for C in param_values:\n",
    "    fold_scores = []\n",
    "    print(\"C = \" + str(C))\n",
    "    for k, (train, val) in enumerate(k_fold.split(X, labels)):\n",
    "        clf = svm.LinearSVC(C=C)\n",
    "        clf.fit(X[train], labels[train])\n",
    "        \n",
    "        ypred = clf.predict(X[val])\n",
    "        yval = labels[val]\n",
    "        a = f1_score(yval, ypred, average='weighted')\n",
    "        fold_scores.append(a)\n",
    "        print(\"\\t[fold {0}] C: {1:.5f}, accuracy: {2:.5f}\".format(k, C, a))\n",
    "        \n",
    "    cross_val_score = np.mean(fold_scores)\n",
    "    print(\"\\tMean F1 score: \" + str(cross_val_score))\n",
    "    \n",
    "    if cross_val_score > arg_max:\n",
    "        arg_max = cross_val_score\n",
    "        best_C = C\n",
    "            \n",
    "print('Best C:', best_C)"
   ]
  },
  {
   "cell_type": "code",
   "execution_count": 9,
   "metadata": {},
   "outputs": [
    {
     "name": "stdout",
     "output_type": "stream",
     "text": [
      "n_estimators = 50, max_depth = 50\n"
     ]
    },
    {
     "name": "stderr",
     "output_type": "stream",
     "text": [
      "/Users/georgehc/anaconda3/envs/py35/lib/python3.5/site-packages/sklearn/ensemble/weight_boosting.py:29: DeprecationWarning: numpy.core.umath_tests is an internal NumPy module and should not be imported. It will be removed in a future NumPy release.\n",
      "  from numpy.core.umath_tests import inner1d\n"
     ]
    },
    {
     "name": "stdout",
     "output_type": "stream",
     "text": [
      "\t[fold 0] C: 100.00000, accuracy: 0.98838\n",
      "\t[fold 1] C: 100.00000, accuracy: 0.97563\n",
      "\t[fold 2] C: 100.00000, accuracy: 0.98443\n",
      "\t[fold 3] C: 100.00000, accuracy: 0.98543\n",
      "\t[fold 4] C: 100.00000, accuracy: 0.98345\n",
      "\tMean F1 score: 0.9834647978282017\n",
      "n_estimators = 50, max_depth = 100\n",
      "\t[fold 0] C: 100.00000, accuracy: 0.98937\n",
      "\t[fold 1] C: 100.00000, accuracy: 0.97962\n",
      "\t[fold 2] C: 100.00000, accuracy: 0.98446\n",
      "\t[fold 3] C: 100.00000, accuracy: 0.98836\n",
      "\t[fold 4] C: 100.00000, accuracy: 0.98064\n",
      "\tMean F1 score: 0.98448942068891\n",
      "n_estimators = 50, max_depth = 150\n",
      "\t[fold 0] C: 100.00000, accuracy: 0.98841\n",
      "\t[fold 1] C: 100.00000, accuracy: 0.98348\n",
      "\t[fold 2] C: 100.00000, accuracy: 0.98737\n",
      "\t[fold 3] C: 100.00000, accuracy: 0.98837\n",
      "\t[fold 4] C: 100.00000, accuracy: 0.98156\n",
      "\tMean F1 score: 0.9858382104992387\n",
      "n_estimators = 100, max_depth = 50\n",
      "\t[fold 0] C: 100.00000, accuracy: 0.98838\n",
      "\t[fold 1] C: 100.00000, accuracy: 0.98054\n",
      "\t[fold 2] C: 100.00000, accuracy: 0.98443\n",
      "\t[fold 3] C: 100.00000, accuracy: 0.98348\n",
      "\t[fold 4] C: 100.00000, accuracy: 0.98245\n",
      "\tMean F1 score: 0.9838566813162515\n",
      "n_estimators = 100, max_depth = 100\n",
      "\t[fold 0] C: 100.00000, accuracy: 0.99420\n",
      "\t[fold 1] C: 100.00000, accuracy: 0.98544\n",
      "\t[fold 2] C: 100.00000, accuracy: 0.98544\n",
      "\t[fold 3] C: 100.00000, accuracy: 0.98643\n",
      "\t[fold 4] C: 100.00000, accuracy: 0.98738\n",
      "\tMean F1 score: 0.9877806728446172\n",
      "n_estimators = 100, max_depth = 150\n",
      "\t[fold 0] C: 100.00000, accuracy: 0.99034\n",
      "\t[fold 1] C: 100.00000, accuracy: 0.98643\n",
      "\t[fold 2] C: 100.00000, accuracy: 0.98641\n",
      "\t[fold 3] C: 100.00000, accuracy: 0.98642\n",
      "\t[fold 4] C: 100.00000, accuracy: 0.98543\n",
      "\tMean F1 score: 0.987004704809315\n",
      "n_estimators = 150, max_depth = 50\n",
      "\t[fold 0] C: 100.00000, accuracy: 0.99032\n",
      "\t[fold 1] C: 100.00000, accuracy: 0.97953\n",
      "\t[fold 2] C: 100.00000, accuracy: 0.98150\n",
      "\t[fold 3] C: 100.00000, accuracy: 0.98443\n",
      "\t[fold 4] C: 100.00000, accuracy: 0.98148\n",
      "\tMean F1 score: 0.9834533388969311\n",
      "n_estimators = 150, max_depth = 100\n",
      "\t[fold 0] C: 100.00000, accuracy: 0.99323\n",
      "\t[fold 1] C: 100.00000, accuracy: 0.98446\n",
      "\t[fold 2] C: 100.00000, accuracy: 0.98544\n",
      "\t[fold 3] C: 100.00000, accuracy: 0.98639\n",
      "\t[fold 4] C: 100.00000, accuracy: 0.98446\n",
      "\tMean F1 score: 0.9867987592093959\n",
      "n_estimators = 150, max_depth = 150\n",
      "\t[fold 0] C: 100.00000, accuracy: 0.99226\n",
      "\t[fold 1] C: 100.00000, accuracy: 0.98352\n",
      "\t[fold 2] C: 100.00000, accuracy: 0.98836\n",
      "\t[fold 3] C: 100.00000, accuracy: 0.98932\n",
      "\t[fold 4] C: 100.00000, accuracy: 0.98154\n",
      "\tMean F1 score: 0.9870010503919241\n",
      "n_estimators = 200, max_depth = 50\n",
      "\t[fold 0] C: 100.00000, accuracy: 0.98935\n",
      "\t[fold 1] C: 100.00000, accuracy: 0.98250\n",
      "\t[fold 2] C: 100.00000, accuracy: 0.98248\n",
      "\t[fold 3] C: 100.00000, accuracy: 0.98248\n",
      "\t[fold 4] C: 100.00000, accuracy: 0.98345\n",
      "\tMean F1 score: 0.984053461587699\n",
      "n_estimators = 200, max_depth = 100\n",
      "\t[fold 0] C: 100.00000, accuracy: 0.99226\n",
      "\t[fold 1] C: 100.00000, accuracy: 0.98642\n",
      "\t[fold 2] C: 100.00000, accuracy: 0.98738\n",
      "\t[fold 3] C: 100.00000, accuracy: 0.98738\n",
      "\t[fold 4] C: 100.00000, accuracy: 0.98350\n",
      "\tMean F1 score: 0.9873899072446118\n",
      "n_estimators = 200, max_depth = 150\n",
      "\t[fold 0] C: 100.00000, accuracy: 0.99226\n",
      "\t[fold 1] C: 100.00000, accuracy: 0.98546\n",
      "\t[fold 2] C: 100.00000, accuracy: 0.98836\n",
      "\t[fold 3] C: 100.00000, accuracy: 0.98738\n",
      "\t[fold 4] C: 100.00000, accuracy: 0.98156\n",
      "\tMean F1 score: 0.9870044693165531\n",
      "Best n_estimators: 100\n",
      "Best max_depth: 100\n"
     ]
    }
   ],
   "source": [
    "from sklearn.ensemble import RandomForestClassifier\n",
    "\n",
    "num_folds = 5\n",
    "k_fold = StratifiedKFold(num_folds, random_state=rng)\n",
    "param_values = [(n_estimators, max_depth)\n",
    "                for n_estimators in [50, 100, 150, 200]\n",
    "                for max_depth in [50, 100, 150]]\n",
    "\n",
    "arg_max = -np.inf\n",
    "best_arg = None\n",
    "for n_estimators, max_depth in param_values:\n",
    "    fold_scores = []\n",
    "    print(\"n_estimators = \" + str(n_estimators)\n",
    "          + ', max_depth = ' + str(max_depth))\n",
    "    for k, (train, val) in enumerate(k_fold.split(X, labels)):\n",
    "        clf = RandomForestClassifier(n_estimators=n_estimators,\n",
    "                                     max_depth=max_depth,\n",
    "                                     random_state=rng)\n",
    "        clf.fit(X[train], labels[train])\n",
    "        \n",
    "        ypred = clf.predict(X[val])\n",
    "        yval = labels[val]\n",
    "        a = f1_score(yval, ypred, average='weighted')\n",
    "        fold_scores.append(a)\n",
    "        print(\"\\t[fold {0}] C: {1:.5f}, accuracy: {2:.5f}\".format(k, C, a))\n",
    "        \n",
    "    cross_val_score = np.mean(fold_scores)\n",
    "    print(\"\\tMean F1 score: \" + str(cross_val_score))\n",
    "    \n",
    "    if cross_val_score > arg_max:\n",
    "        arg_max = cross_val_score\n",
    "        best_arg = (n_estimators, max_depth)\n",
    "\n",
    "best_n_estimators, best_max_depth = best_arg\n",
    "print('Best n_estimators:', best_n_estimators)\n",
    "print('Best max_depth:', best_max_depth)"
   ]
  },
  {
   "cell_type": "markdown",
   "metadata": {},
   "source": [
    "### Classifier testing: Precision-Recall and ROC curves [20 points]\n",
    "\n",
    "   - Use the best hyperparameters for each classifier from the previous question to **train** your classifiers on the training data.\n",
    "   - Use test emails to in the `testing` folder to **test** your classifiers and construct the plots below.\n",
    "\n",
    "Things to plot:\n",
    "\n",
    "   - Construct one plot containing 3 ROC curves, one for each classifier.\n",
    "   - In the legend of this plot, display the AUC for each classifier.\n",
    "   - Construct one plot containing 3 precision-recall curves, one for each classifier.\n",
    "   - In the legend of each plot, display the average precision for each classifier.\n",
    "\n",
    "Note that these plots are on the test data: you will have to read in this data, construct a document matrix and labels. Some words in the test data may not have been present in the training data: there are multiple ways to address this, briefly describe your approach.\n",
    "\n",
    "Things to answer:\n",
    "\n",
    "   - Of the ROC and Precision-Recall curves, which one would you use for this task and why?\n",
    "   - Which classifier is the best, according to your chosen curves?"
   ]
  },
  {
   "cell_type": "markdown",
   "metadata": {},
   "source": [
    "**Remarks on solution**: We intentionally use the same dictionary as in training (through the variable `vectorizer` defined previously), so words that appear in test data but not in training data are ignored. TPR vs FPR and precision-recall curves actually convey the same kind of information, so using either to pick the best method is appropriate. In both cases, the best performing algorithm at least among the three being tested is support vector classification (SVC). Specifically, for the TPR vs FPR plot, SVC has the highest AUC, and for the precision-recall curve, SVC has the highest AP. As an exercise to the reader, try Bernoulli naive Bayes with different choices of additive smoothing (note that we did not cover naive Bayes this mini, so you'll need to do some reading on it)."
   ]
  },
  {
   "cell_type": "code",
   "execution_count": 10,
   "metadata": {
    "scrolled": true
   },
   "outputs": [
    {
     "data": {
      "text/plain": [
       "RandomForestClassifier(bootstrap=True, class_weight=None, criterion='gini',\n",
       "            max_depth=100, max_features='auto', max_leaf_nodes=None,\n",
       "            min_impurity_decrease=0.0, min_impurity_split=None,\n",
       "            min_samples_leaf=1, min_samples_split=2,\n",
       "            min_weight_fraction_leaf=0.0, n_estimators=100, n_jobs=1,\n",
       "            oob_score=False,\n",
       "            random_state=<mtrand.RandomState object at 0x118f2abd0>,\n",
       "            verbose=0, warm_start=False)"
      ]
     },
     "execution_count": 10,
     "metadata": {},
     "output_type": "execute_result"
    }
   ],
   "source": [
    "clf_knn = KNeighborsClassifier(n_neighbors=best_k)\n",
    "clf_svm = svm.LinearSVC(C=best_C)\n",
    "clf_rf = RandomForestClassifier(n_estimators=best_n_estimators,\n",
    "                                max_depth=best_max_depth,\n",
    "                                random_state=rng)\n",
    "\n",
    "clf_knn.fit(X, labels)\n",
    "clf_svm.fit(X, labels)\n",
    "clf_rf.fit(X, labels)"
   ]
  },
  {
   "cell_type": "code",
   "execution_count": 11,
   "metadata": {},
   "outputs": [],
   "source": [
    "test_files = glob('./email-data/testing/*.txt')\n",
    "\n",
    "documents_test = []\n",
    "labels_test = []\n",
    "for file in test_files:\n",
    "    documents_test.append(makeWordList(file))\n",
    "    if file.find(\"ham\") != -1:\n",
    "        labels_test.append(0)\n",
    "    else:\n",
    "        labels_test.append(1)\n",
    "\n",
    "Xtest = CountVectorizer(vocabulary=vectorizer.vocabulary_).fit_transform(documents_test)"
   ]
  },
  {
   "cell_type": "code",
   "execution_count": 12,
   "metadata": {},
   "outputs": [],
   "source": [
    "ypred_knn = clf_knn.predict_proba(Xtest)[:,1]\n",
    "ypred_svm = clf_svm.decision_function(Xtest)\n",
    "ypred_rf = clf_rf.predict_proba(Xtest)[:,1]"
   ]
  },
  {
   "cell_type": "code",
   "execution_count": 13,
   "metadata": {},
   "outputs": [
    {
     "data": {
      "image/png": "[encoded data removed]",
      "text/plain": [
       "<Figure size 432x288 with 1 Axes>"
      ]
     },
     "metadata": {},
     "output_type": "display_data"
    }
   ],
   "source": [
    "from sklearn.metrics import roc_curve\n",
    "\n",
    "plt.figure()\n",
    "\n",
    "fpr, tpr, _ = roc_curve(labels_test, ypred_knn, pos_label=1)\n",
    "auc = np.trapz(tpr, fpr)\n",
    "plt.plot(fpr, tpr, label=\"KNN AUC=\" + \"{:.3f}\".format(auc))\n",
    "\n",
    "fpr, tpr, _ = roc_curve(labels_test, ypred_svm, pos_label=1)\n",
    "auc = np.trapz(tpr, fpr)\n",
    "plt.plot(fpr, tpr, label=\"SVM AUC=\" + \"{:.3f}\".format(auc))\n",
    "\n",
    "fpr, tpr, _ = roc_curve(labels_test, ypred_rf, pos_label=1)\n",
    "auc = np.trapz(tpr, fpr)\n",
    "plt.plot(fpr, tpr, label=\"RF AUC=\" + \"{:.3f}\".format(auc))\n",
    "\n",
    "plt.xlabel(\"FPR\")\n",
    "plt.ylabel(\"TPR\")\n",
    "plt.grid()\n",
    "plt.legend()\n",
    "plt.show()"
   ]
  },
  {
   "cell_type": "code",
   "execution_count": 14,
   "metadata": {},
   "outputs": [
    {
     "data": {
      "image/png": "[encoded data removed]",
      "text/plain": [
       "<Figure size 432x288 with 1 Axes>"
      ]
     },
     "metadata": {},
     "output_type": "display_data"
    }
   ],
   "source": [
    "from sklearn.metrics import precision_recall_curve, average_precision_score\n",
    "\n",
    "plt.figure()\n",
    "\n",
    "p, r, _ = precision_recall_curve(labels_test, ypred_knn, pos_label=1)\n",
    "ap = average_precision_score(labels_test, ypred_knn)\n",
    "plt.plot(r, p, label=\"KNN AP=\" + \"{:.3f}\".format(ap))\n",
    "\n",
    "p, r, _ = precision_recall_curve(labels_test, ypred_svm, pos_label=1)\n",
    "ap = average_precision_score(labels_test, ypred_svm)\n",
    "plt.plot(r, p, label=\"SVM AP=\" + \"{:.3f}\".format(ap))\n",
    "\n",
    "p, r, _ = precision_recall_curve(labels_test, ypred_rf, pos_label=1)\n",
    "ap = average_precision_score(labels_test, ypred_rf)\n",
    "plt.plot(r, p, label=\"RF AP=\" + \"{:.3f}\".format(ap))\n",
    "\n",
    "plt.xlabel(\"Recall\")\n",
    "plt.ylabel(\"Precision\")\n",
    "plt.grid()\n",
    "plt.legend()\n",
    "plt.show()"
   ]
  }
 ],
 "metadata": {
  "kernelspec": {
   "display_name": "Python 3",
   "language": "python",
   "name": "python3"
  },
  "language_info": {
   "codemirror_mode": {
    "name": "ipython",
    "version": 3
   },
   "file_extension": ".py",
   "mimetype": "text/x-python",
   "name": "python",
   "nbconvert_exporter": "python",
   "pygments_lexer": "ipython3",
   "version": "3.6.8"
  }
 },
 "nbformat": 4,
 "nbformat_minor": 2
}
